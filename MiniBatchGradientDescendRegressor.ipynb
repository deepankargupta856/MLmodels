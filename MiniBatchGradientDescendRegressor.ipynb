{
  "nbformat": 4,
  "nbformat_minor": 0,
  "metadata": {
    "colab": {
      "provenance": []
    },
    "kernelspec": {
      "name": "python3",
      "display_name": "Python 3"
    },
    "language_info": {
      "name": "python"
    }
  },
  "cells": [
    {
      "cell_type": "code",
      "execution_count": 9,
      "metadata": {
        "id": "B1nGm4vdDK1H"
      },
      "outputs": [],
      "source": [
        "from sklearn.datasets import load_diabetes\n",
        "import numpy as np\n",
        "from sklearn.linear_model import LinearRegression\n",
        "from sklearn.model_selection import train_test_split\n",
        "from sklearn.metrics import r2_score\n",
        "import random"
      ]
    },
    {
      "cell_type": "code",
      "source": [
        "X,Y = load_diabetes(return_X_y=True)"
      ],
      "metadata": {
        "id": "1dBSL0ILDZHi"
      },
      "execution_count": 5,
      "outputs": []
    },
    {
      "cell_type": "code",
      "source": [
        "X_train,X_test,Y_train,Y_test=train_test_split(X,Y,test_size=0.2,random_state=2)"
      ],
      "metadata": {
        "id": "WK7xBdy2DySL"
      },
      "execution_count": 6,
      "outputs": []
    },
    {
      "cell_type": "code",
      "source": [
        "lr = LinearRegression()\n",
        "lr.fit(X_train,Y_train)\n",
        "print(lr.coef_)\n",
        "print(lr.intercept_)"
      ],
      "metadata": {
        "colab": {
          "base_uri": "https://localhost:8080/"
        },
        "id": "qZ0bPCiCD6qM",
        "outputId": "e3f3d0ce-62b4-4cde-8b90-5e9ed03a84a6"
      },
      "execution_count": 7,
      "outputs": [
        {
          "output_type": "stream",
          "name": "stdout",
          "text": [
            "[  -9.15865318 -205.45432163  516.69374454  340.61999905 -895.5520019\n",
            "  561.22067904  153.89310954  126.73139688  861.12700152   52.42112238]\n",
            "151.88331005254167\n"
          ]
        }
      ]
    },
    {
      "cell_type": "code",
      "source": [
        "y_pred = lr.predict(X_test)\n",
        "r2_score(Y_test,y_pred)"
      ],
      "metadata": {
        "colab": {
          "base_uri": "https://localhost:8080/"
        },
        "id": "OuDVd-S_GHES",
        "outputId": "95f83226-41b0-44bc-fd9b-4cfc0842d32c"
      },
      "execution_count": 8,
      "outputs": [
        {
          "output_type": "execute_result",
          "data": {
            "text/plain": [
              "0.4399338661568968"
            ]
          },
          "metadata": {},
          "execution_count": 8
        }
      ]
    },
    {
      "cell_type": "code",
      "source": [
        "class MBGDregressor:\n",
        "  def __init__(self,learning_rate,epochs,batch_size):\n",
        "    self.coef = None\n",
        "    self.intercept = None\n",
        "    self.learning_rate = learning_rate\n",
        "    self.epochs = epochs\n",
        "    self.batch_size = batch_size\n",
        "\n",
        "  def train(self,X_train,Y_train):\n",
        "    self.coef = np.ones(X_train.shape[1])\n",
        "    self.intercept = 0\n",
        "    for i in range(self.epochs):\n",
        "      for j in range(int((X_train.shape[0])/self.batch_size)):\n",
        "\n",
        "        idx = random.sample(range(X_train.shape[0]),self.batch_size)\n",
        "        y_hat = np.dot(X_train[idx],self.coef) + self.intercept\n",
        "\n",
        "        slope_intercept = -2*np.mean(Y_train[idx]-y_hat)\n",
        "        self.intercept = self.intercept - self.learning_rate*(slope_intercept)\n",
        "\n",
        "        slope_coef = -2*np.dot(Y_train[idx]-y_hat,X_train[idx])\n",
        "        self.coef = self.coef - self.learning_rate*(slope_coef)\n",
        "    print(self.coef)\n",
        "    print(self.intercept)\n",
        "\n",
        "  def predict(self,X_test):\n",
        "    return np.dot(X_test,self.coef) + self.intercept\n"
      ],
      "metadata": {
        "id": "kPBjuDCfGORU"
      },
      "execution_count": 11,
      "outputs": []
    },
    {
      "cell_type": "code",
      "source": [
        "mbr = MBGDregressor(0.01,50,int(X_train.shape[0]/20))"
      ],
      "metadata": {
        "id": "2XWGzAJhJkmM"
      },
      "execution_count": 12,
      "outputs": []
    },
    {
      "cell_type": "code",
      "source": [
        "mbr.train(X_train,Y_train)"
      ],
      "metadata": {
        "colab": {
          "base_uri": "https://localhost:8080/"
        },
        "id": "hIMzW3hPKEaU",
        "outputId": "fb20e626-de58-4844-ba3c-e3f64d5d5aff"
      },
      "execution_count": 13,
      "outputs": [
        {
          "output_type": "stream",
          "name": "stdout",
          "text": [
            "[  60.39549074  -65.62178963  348.26590492  235.8674569    19.82049835\n",
            "  -22.15180856 -172.34617674  131.49782772  312.66469384  123.39958495]\n",
            "153.98286646664025\n"
          ]
        }
      ]
    },
    {
      "cell_type": "code",
      "source": [
        "y_pred = mbr.predict(X_test)\n",
        "r2_score(Y_test,y_pred)"
      ],
      "metadata": {
        "colab": {
          "base_uri": "https://localhost:8080/"
        },
        "id": "kcly30wTKHsd",
        "outputId": "589cb8bb-7f65-41a4-a33c-621009c35d09"
      },
      "execution_count": 14,
      "outputs": [
        {
          "output_type": "execute_result",
          "data": {
            "text/plain": [
              "0.43171879396574697"
            ]
          },
          "metadata": {},
          "execution_count": 14
        }
      ]
    },
    {
      "cell_type": "code",
      "source": [],
      "metadata": {
        "id": "0zCpi4GOKOxB"
      },
      "execution_count": null,
      "outputs": []
    }
  ]
}