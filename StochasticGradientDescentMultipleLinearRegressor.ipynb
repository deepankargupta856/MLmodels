{
  "nbformat": 4,
  "nbformat_minor": 0,
  "metadata": {
    "colab": {
      "provenance": []
    },
    "kernelspec": {
      "name": "python3",
      "display_name": "Python 3"
    },
    "language_info": {
      "name": "python"
    }
  },
  "cells": [
    {
      "cell_type": "code",
      "execution_count": 80,
      "metadata": {
        "id": "NW105x1qGb3i"
      },
      "outputs": [],
      "source": [
        "import numpy as np\n",
        "from sklearn.linear_model import LinearRegression\n",
        "from sklearn.datasets import load_diabetes\n",
        "from sklearn.metrics import r2_score\n",
        "from sklearn.model_selection import train_test_split\n",
        "import time"
      ]
    },
    {
      "cell_type": "code",
      "source": [
        "X,Y = load_diabetes(return_X_y = True)"
      ],
      "metadata": {
        "id": "3BPj8SgSH_Vc"
      },
      "execution_count": 2,
      "outputs": []
    },
    {
      "cell_type": "code",
      "source": [
        "X_train,X_test,Y_train,Y_test=train_test_split(X,Y,test_size=0.2,random_state=2)"
      ],
      "metadata": {
        "id": "HNHAZGmKJZwk"
      },
      "execution_count": 3,
      "outputs": []
    },
    {
      "cell_type": "code",
      "source": [
        "lr = LinearRegression()\n",
        "lr.fit(X_train,Y_train)\n",
        "print(lr.coef_)\n",
        "print(lr.intercept_)"
      ],
      "metadata": {
        "colab": {
          "base_uri": "https://localhost:8080/"
        },
        "id": "EjlhLDbPJuEA",
        "outputId": "c41dad8d-b5ad-46d5-ced9-5d37cd296f79"
      },
      "execution_count": 110,
      "outputs": [
        {
          "output_type": "stream",
          "name": "stdout",
          "text": [
            "[  -9.15865318 -205.45432163  516.69374454  340.61999905 -895.5520019\n",
            "  561.22067904  153.89310954  126.73139688  861.12700152   52.42112238]\n",
            "151.88331005254167\n"
          ]
        }
      ]
    },
    {
      "cell_type": "code",
      "source": [
        "sk_y_pred = lr.predict(X_test)\n",
        "r2_score(Y_test,sk_y_pred)"
      ],
      "metadata": {
        "colab": {
          "base_uri": "https://localhost:8080/"
        },
        "id": "K-u7S_AYTYn9",
        "outputId": "2fddb6bb-e36e-4ca4-e3dc-92c2d6633adf"
      },
      "execution_count": 82,
      "outputs": [
        {
          "output_type": "execute_result",
          "data": {
            "text/plain": [
              "0.4399338661568968"
            ]
          },
          "metadata": {},
          "execution_count": 82
        }
      ]
    },
    {
      "cell_type": "code",
      "source": [
        "class SGDregressor:\n",
        "  def __init__(self,learning_rate,epochs):\n",
        "    self.coef = None\n",
        "    self.intercept = None\n",
        "    self.epochs = epochs\n",
        "    self.lr = learning_rate\n",
        "\n",
        "  def train(self,X_train,Y_train):\n",
        "    self.coef = np.ones(X_train.shape[1])\n",
        "    self.intercept = 0\n",
        "    for i in range(self.epochs):\n",
        "      for j in range(X_train.shape[0]):\n",
        "        idx = np.random.randint(0,X_train.shape[0])\n",
        "        y_hat = np.dot(X_train[idx],self.coef)+self.intercept\n",
        "        slope_coeff = -2*(np.dot((Y_train[idx]-y_hat),X_train[idx]))\n",
        "        self.coef = self.coef - self.lr*(slope_coeff)\n",
        "\n",
        "        slope_intercept = -2*(Y_train[idx]-y_hat)\n",
        "        self.intercept = self.intercept - self.lr*(slope_intercept)\n",
        "    print(self.coef,self.intercept,sep='\\n')\n",
        "\n",
        "  def predict(self,X_test):\n",
        "    return np.dot(X_test,self.coef)+self.intercept\n"
      ],
      "metadata": {
        "id": "tDATgzdnJ9hY"
      },
      "execution_count": 83,
      "outputs": []
    },
    {
      "cell_type": "code",
      "source": [
        "myBGD = SGDregressor(0.04,15)"
      ],
      "metadata": {
        "id": "xs0q5zviQViN"
      },
      "execution_count": 106,
      "outputs": []
    },
    {
      "cell_type": "code",
      "source": [
        "st = time.time()\n",
        "myBGD.train(X_train,Y_train)\n",
        "print(time.time()-st)"
      ],
      "metadata": {
        "colab": {
          "base_uri": "https://localhost:8080/"
        },
        "id": "SCf8YHbcQawB",
        "outputId": "fc9a5e3b-43d9-4a5d-e5f2-714ea43798d3"
      },
      "execution_count": 107,
      "outputs": [
        {
          "output_type": "stream",
          "name": "stdout",
          "text": [
            "[  43.38605101  -81.85269347  388.25018553  276.64968333   17.26994255\n",
            "  -29.8393625  -183.62281216  133.16894001  344.16981443  133.08713287]\n",
            "156.3019751251813\n",
            "0.14986968040466309\n"
          ]
        }
      ]
    },
    {
      "cell_type": "code",
      "source": [
        "y_pred = myBGD.predict(X_test)"
      ],
      "metadata": {
        "id": "MdiG2JKQQe2v"
      },
      "execution_count": 108,
      "outputs": []
    },
    {
      "cell_type": "code",
      "source": [
        "r2_score(Y_test,y_pred)"
      ],
      "metadata": {
        "colab": {
          "base_uri": "https://localhost:8080/"
        },
        "id": "9N_aMyLCTH_L",
        "outputId": "d6ef5eac-bdf2-4c77-d761-d47e5ff970fc"
      },
      "execution_count": 109,
      "outputs": [
        {
          "output_type": "execute_result",
          "data": {
            "text/plain": [
              "0.435906011197566"
            ]
          },
          "metadata": {},
          "execution_count": 109
        }
      ]
    }
  ]
}