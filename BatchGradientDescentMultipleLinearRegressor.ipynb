{
  "nbformat": 4,
  "nbformat_minor": 0,
  "metadata": {
    "colab": {
      "provenance": []
    },
    "kernelspec": {
      "name": "python3",
      "display_name": "Python 3"
    },
    "language_info": {
      "name": "python"
    }
  },
  "cells": [
    {
      "cell_type": "code",
      "execution_count": 37,
      "metadata": {
        "id": "NW105x1qGb3i"
      },
      "outputs": [],
      "source": [
        "import numpy as np\n",
        "from sklearn.linear_model import LinearRegression\n",
        "from sklearn.datasets import load_diabetes\n",
        "from sklearn.metrics import r2_score\n",
        "from sklearn.model_selection import train_test_split"
      ]
    },
    {
      "cell_type": "code",
      "source": [
        "X,Y = load_diabetes(return_X_y = True)"
      ],
      "metadata": {
        "id": "3BPj8SgSH_Vc"
      },
      "execution_count": 38,
      "outputs": []
    },
    {
      "cell_type": "code",
      "source": [
        "X_train,X_test,Y_train,Y_test=train_test_split(X,Y,test_size=0.2,random_state=2)"
      ],
      "metadata": {
        "id": "HNHAZGmKJZwk"
      },
      "execution_count": 39,
      "outputs": []
    },
    {
      "cell_type": "code",
      "source": [
        "lr = LinearRegression()\n",
        "lr.fit(X_train,Y_train)\n",
        "print(lr.coef_)\n",
        "print(lr.intercept_)"
      ],
      "metadata": {
        "colab": {
          "base_uri": "https://localhost:8080/"
        },
        "id": "EjlhLDbPJuEA",
        "outputId": "7df8d910-7a16-4f1e-89c9-273ede0cafe6"
      },
      "execution_count": 40,
      "outputs": [
        {
          "output_type": "stream",
          "name": "stdout",
          "text": [
            "[  -9.15865318 -205.45432163  516.69374454  340.61999905 -895.5520019\n",
            "  561.22067904  153.89310954  126.73139688  861.12700152   52.42112238]\n",
            "151.88331005254167\n"
          ]
        }
      ]
    },
    {
      "cell_type": "code",
      "source": [
        "sk_y_pred = lr.predict(X_test)\n",
        "r2_score(Y_test,sk_y_pred)"
      ],
      "metadata": {
        "colab": {
          "base_uri": "https://localhost:8080/"
        },
        "id": "K-u7S_AYTYn9",
        "outputId": "f7739ed3-d817-4917-f105-abc78d30f906"
      },
      "execution_count": 71,
      "outputs": [
        {
          "output_type": "execute_result",
          "data": {
            "text/plain": [
              "0.4399338661568968"
            ]
          },
          "metadata": {},
          "execution_count": 71
        }
      ]
    },
    {
      "cell_type": "code",
      "source": [
        "class BGDregressor:\n",
        "  def __init__(self,learning_rate,epochs):\n",
        "    self.coef = None\n",
        "    self.intercept = None\n",
        "    self.epochs = epochs\n",
        "    self.lr = learning_rate\n",
        "\n",
        "  def train(self,X_train,Y_train):\n",
        "    self.coef = np.ones(X_train.shape[1])\n",
        "    self.intercept = 0\n",
        "    for i in range(self.epochs):\n",
        "      y_hat = np.dot(X_train,self.coef)+self.intercept\n",
        "      slope_coeff = -2*(np.dot(X_train.T,(Y_train-y_hat)))/X_train.shape[0]\n",
        "      self.coef = self.coef - self.lr*(slope_coeff)\n",
        "\n",
        "      slope_intercept = -2*np.mean(Y_train-y_hat)\n",
        "      self.intercept = self.intercept - self.lr*(slope_intercept)\n",
        "    print(self.coef,self.intercept,sep='\\n')\n",
        "\n",
        "  def predict(self,X_test):\n",
        "    return np.dot(X_test,self.coef)+self.intercept\n"
      ],
      "metadata": {
        "id": "tDATgzdnJ9hY"
      },
      "execution_count": 66,
      "outputs": []
    },
    {
      "cell_type": "code",
      "source": [
        "myBGD = BGDregressor(0.6,1000)"
      ],
      "metadata": {
        "id": "xs0q5zviQViN"
      },
      "execution_count": 67,
      "outputs": []
    },
    {
      "cell_type": "code",
      "source": [
        "myBGD.train(X_train,Y_train)"
      ],
      "metadata": {
        "colab": {
          "base_uri": "https://localhost:8080/"
        },
        "id": "SCf8YHbcQawB",
        "outputId": "8c130c99-5c55-438a-9f4f-5e673dba908d"
      },
      "execution_count": 68,
      "outputs": [
        {
          "output_type": "stream",
          "name": "stdout",
          "text": [
            "[   7.81553013 -186.49510734  506.45449714  330.72279448  -45.79443697\n",
            " -123.85023287 -193.69457562   98.53559341  470.95977477   88.65520161]\n",
            "151.98879593353988\n"
          ]
        }
      ]
    },
    {
      "cell_type": "code",
      "source": [
        "y_pred = myBGD.predict(X_test)"
      ],
      "metadata": {
        "id": "MdiG2JKQQe2v"
      },
      "execution_count": 69,
      "outputs": []
    },
    {
      "cell_type": "code",
      "source": [
        "r2_score(Y_test,y_pred)"
      ],
      "metadata": {
        "colab": {
          "base_uri": "https://localhost:8080/"
        },
        "id": "9N_aMyLCTH_L",
        "outputId": "7f434acc-12ae-4e37-f3d1-6f35a63edc56"
      },
      "execution_count": 70,
      "outputs": [
        {
          "output_type": "execute_result",
          "data": {
            "text/plain": [
              "0.4520736256827783"
            ]
          },
          "metadata": {},
          "execution_count": 70
        }
      ]
    }
  ]
}